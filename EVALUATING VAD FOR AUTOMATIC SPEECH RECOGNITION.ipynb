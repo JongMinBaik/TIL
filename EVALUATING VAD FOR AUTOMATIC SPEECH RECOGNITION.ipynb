{
 "cells": [
  {
   "cell_type": "markdown",
   "metadata": {},
   "source": [
    "# EVALUATING VAD FOR AUTOMATIC SPEECH RECOGNITION\n",
    "\n",
    "## 1. INTRODUCTION\n",
    "\n",
    "ASR에서 VAD는 preprocessing 과정이다.\n",
    "\n",
    "기존의 VAD 평가 방법에는 다음과 같은 방법들이 있었다.\n",
    "    1. frame accuracy\n",
    "    2. ROC curve\n",
    "    3. etc..\n",
    "그러나 이러한 방법들은 ASR의 결과와 잘 맞지 않는다.\n",
    "\n",
    "## 2. REVIEW OF PREVIOUS EVALUATION CRITERIA\n",
    "\n",
    "frame accuracy를 평가하는 방법은 모든 프레임에서 vad output과 target을 비교하여 일치하면 1, 아니면 0을 도출한다.\n",
    "그 후 결과값에서 전체 프레임 수를 나눈다.\n",
    "이러한 결과값에 의해 ROC curve는 TPR과 FPR을 비교하며 DET는 TPR과 FNR을 비교한다.\n",
    "\n",
    "frame accuracy는 ASR과 연결성이 얕다. (두 개의 아웃풋을 서로 연관지어 해석하기 어렵다.)\n",
    "따라서 semgent-level에서의 평가 방법이 제안 되어왔다.\n",
    "\n",
    "하지만 segment의 길이가 길어지면 불필요한 noise 또한 다수 포함되기 때문에 의미있는 결과를 도출하기가 어렵다.\n",
    "\n",
    "따라서 그 외에 boundary level ASR related metrics등이 제안되어 왔지만 서로 연관성이 없는\n",
    "개별적인 지표들이었기 때문에 적합한 지표들이 아니었다.\n",
    "\n",
    "## 3. NEW VAD EVALUATION CRITERION\n",
    "\n",
    "위에서 말했듯이 all in-one이 되는 지표가 없었기 때문에 평가 목적의 대상이 되는VAD classification, ASR system 에 기반하여 다음을 제안한다.\n",
    "\n",
    "    1.frame level accuracy\n",
    "    2. boundary level accuracy\n",
    "\n",
    "#### 3.1. start boundary accuracy(SBA)\n",
    "음성이 시작된 이후의 프레임들의 정확성을 판단하여 스코어를 도출한다.\n",
    "음성 기간이 침묵 섹션보다 음성인식 오류에 더 영향을 미치므로 weighting function은 SB 계산에 모두 사용된다.\n",
    "(여기서 윈도우로 잡는 2L의 길이가 어느 정도로 되어야 하는지는 모르겠다.)\n",
    "\n",
    "#### 3.2. end boundary accuracy(EBA)\n",
    "SBA와 같다.\n",
    " \n",
    "#### 3.3. border precision(BP)\n",
    "BP = (SBA, EBA의 평균) * (autterance 수) / (speech segment 수)\n",
    "위와 같은 식으로 계산한다.\n",
    "최종 vad 스코어는 (8)의 식으로 계산한다.\n",
    "\n",
    "## 4. EXPERIMENT\n",
    "실험은 start, end 를 조정했을 때의 음성인식 결과에 대한 실험과 speech segment 수에 따른 ASR 결과에 대한 실험을 진행한다.\n",
    "start와 end는 data extension이 발생했을 때는 WER이 늘지 않았으며 반대의 경우에는 WER이 증가했다.또한 BP가 증가했을 때 WER이 증가했다.\n",
    "이 실험으로 알 수 있는 것은 missing segment나 insertion in silence가 ASR의 error를 높인다는 것이다.\n",
    "\n",
    "다음 실험에서는 기존의 평가방법과 본 논문에서 제안된 방법을 비교했을 때 본 논문에서 제안된 방법이 ASR의 WER값과 linear해서 더 높은 연관성을 가지고 있다는 것을 알 수 있다.\n",
    "\n",
    "## 5. CONCLUSION\n",
    "본 논문에서 제안된 방법이 ASR의 WER와 linear하기 때문에 ASR을 위한 VAD의 평가 방법으로 더 적합하다고 볼 수 있다.\n",
    "\n",
    "## 내 생각\n",
    "본 논문은 음성인식을 위한 VAD를 고민하였다. VAD가 ASR의 preprocessing이므로 VAD의 결과값은 ASR에 큰 영향을 끼친다는 것을 전제하로 진행하였기 때문에 평가방법은 ASR의 성능이 되었다. 그렇다면 우리가 할 것이 최종 목표를 위한 평가방법을 정해야 하는 것인지, 단순 VAD 자체의 목적을 기준으로 삼고 평가방법을 정해야 하는 것인지를 고민해야 할 듯."
   ]
  },
  {
   "cell_type": "code",
   "execution_count": null,
   "metadata": {},
   "outputs": [],
   "source": []
  }
 ],
 "metadata": {
  "kernelspec": {
   "display_name": "VAD",
   "language": "python",
   "name": "vad"
  },
  "language_info": {
   "codemirror_mode": {
    "name": "ipython",
    "version": 3
   },
   "file_extension": ".py",
   "mimetype": "text/x-python",
   "name": "python",
   "nbconvert_exporter": "python",
   "pygments_lexer": "ipython3",
   "version": "3.6.6"
  }
 },
 "nbformat": 4,
 "nbformat_minor": 2
}
