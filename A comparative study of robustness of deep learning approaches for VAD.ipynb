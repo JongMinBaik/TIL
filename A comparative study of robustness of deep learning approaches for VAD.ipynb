{
 "cells": [
  {
   "cell_type": "markdown",
   "metadata": {},
   "source": [
    "# VAD\n",
    "\n",
    "1. 기존 방법\n",
    "2. 머신러닝\n",
    "    1. Dataset\n",
    "    2. Preprocessing\n",
    "    3. Model\n",
    "    4. Score function\n",
    "    5. Post-processing\n",
    "    6. Evaluation\n",
    "3. Reference"
   ]
  },
  {
   "cell_type": "markdown",
   "metadata": {},
   "source": [
    "# A comparative study of robustness of deep learning approaches for VAD.\n",
    "\n",
    "1. Introduction\n",
    "    - VAD로 제안된 테크닉에는 supervised(energy, zero-crossing rate, the periodicity measure, higher-order statistics in LPC residual domain), unsupervised(SVM, GMM, DNN, etc..)등이 있다. 깔끔한 음성은 제안된 방식으로 해결 가능함. \n",
    "    - 그러나 노이즈끼면 어려워서 차별화된 피쳐를 통한 vad를 연구해옴.(for robustness)\n",
    "    - rnn, cnn등이 제안되면서 많은 성과가 있었지만 snr, noise robustness등의 측면에서 장단점을 알지를 못함.\n",
    "    - 그래서 본 논문에서 snr과 noise robustness 등의 측면에서 cnn, lstm, dnn의 장단점을 분석함.\n",
    "    - unseen noise를 위해 데이터를 mix하기도 함.\n",
    "    - noise robustness를 위해 'noise-aware training(NAT)'이 제안됨.\n",
    "  \n",
    "2. Deep learning approches for vad\n",
    "    1. DNN\n",
    "        - 장점: 기존에 있던 vad보다 좋음, low detection complexity\n",
    "        - acoustic observation x 를 frame based DNN classifier 에 넣어 분류\n",
    "            - speech or silence, posterior probability 이용\n",
    "        - score function: cross entropy\n",
    "        - optim: SGD\n",
    "        - Aurora2\n",
    "        \n",
    "    2. LSTM\n",
    "        - 장점: Memorizing information for a long duration of time\n",
    "        - score function: cross entropy\n",
    "        - optim: BPTT(back propagation through time learning algorithm\n",
    "        \n",
    "    3. CNN\n",
    "        - 방법 소개\n",
    "        - 몇 structure는 DNN보다 성능이 좋다.\n",
    "        - score function: cross entropy\n",
    "        - optim: SGD\n",
    "        \n",
    "그러나 지금까지 위와 같은 딥러닝으로 접근하는 방법들은 같은 데이터셋을 사용하지 않았다.\n",
    "(to investigate the robustness under noisy conditions)\n",
    "\n",
    "3. NAT(noise aware training)\n",
    "\n",
    "---\n",
    "\n",
    "4. conclusion\n",
    "DNN이 CNN보다 더 좋지만 너무 많은 false transition 가짐\n",
    "CNN은 unseen noise에 대해 더 좋은 generalization 가짐\n",
    "but, not stable system\n",
    "결론은 LSTM이 time series에 더 깊게 관여하므로 LSTM이 제일 좋다.(노이지한 환경에서)\n",
    "\n",
    "그러나 위 세가지 방법 모두 unseen noise or low snr 에서는 성능이 굉장히 떨어진다.\n",
    "그래서 nat를 제시했고 nat를 사용하면 성능이 올라가는게 확인이 된다.\n"
   ]
  },
  {
   "cell_type": "code",
   "execution_count": null,
   "metadata": {},
   "outputs": [],
   "source": []
  }
 ],
 "metadata": {
  "kernelspec": {
   "display_name": "VAD",
   "language": "python",
   "name": "vad"
  },
  "language_info": {
   "codemirror_mode": {
    "name": "ipython",
    "version": 3
   },
   "file_extension": ".py",
   "mimetype": "text/x-python",
   "name": "python",
   "nbconvert_exporter": "python",
   "pygments_lexer": "ipython3",
   "version": "3.6.6"
  }
 },
 "nbformat": 4,
 "nbformat_minor": 2
}
